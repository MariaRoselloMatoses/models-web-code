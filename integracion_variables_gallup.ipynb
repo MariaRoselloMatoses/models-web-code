{
 "metadata": {
  "language_info": {
   "codemirror_mode": {
    "name": "ipython",
    "version": 3
   },
   "file_extension": ".py",
   "mimetype": "text/x-python",
   "name": "python",
   "nbconvert_exporter": "python",
   "pygments_lexer": "ipython3",
   "version": "3.8.3"
  },
  "orig_nbformat": 2,
  "kernelspec": {
   "name": "python383jvsc74a57bd0cc3f330b50fe39be0c0be814fceb468cf76a12b0f7c5ddfcadc5b692d04ca0b6",
   "display_name": "Python 3.8.3 64-bit ('base': conda)"
  }
 },
 "nbformat": 4,
 "nbformat_minor": 2,
 "cells": [
  {
   "cell_type": "code",
   "execution_count": 1,
   "metadata": {},
   "outputs": [],
   "source": [
    "import os \n",
    "import pandas as pd\n",
    "os.chdir(\"C:/Users/Gonzalo/Documents/CURSO3/PRIII/datos_happy_raw/datos_años\")"
   ]
  },
  {
   "source": [
    "## Lectura de datos básicos"
   ],
   "cell_type": "markdown",
   "metadata": {}
  },
  {
   "cell_type": "code",
   "execution_count": 2,
   "metadata": {},
   "outputs": [],
   "source": [
    "datos15 = pd.read_csv(\"2015.csv\")\n",
    "datos16 = pd.read_csv(\"2016.csv\")\n",
    "datos17 = pd.read_csv(\"2017.csv\")\n",
    "datos18 = pd.read_csv(\"2018.csv\")\n",
    "datos19 = pd.read_csv(\"2019.csv\")\n",
    "datos19 = datos19.rename(columns={\"Country or region\":\"Country\"})\n",
    "datos20 = pd.read_csv(\"2020.csv\")\n",
    "datos21 = pd.read_excel(\"2021.xls\")"
   ]
  },
  {
   "cell_type": "code",
   "execution_count": null,
   "metadata": {},
   "outputs": [],
   "source": [
    "seleccion = [\"Country\",\"Score\"]"
   ]
  },
  {
   "cell_type": "code",
   "execution_count": 3,
   "metadata": {},
   "outputs": [],
   "source": [
    "datos_panel = pd.read_excel(\"datos_panel.xls\")\n",
    "datos_panel = datos_panel.rename(columns={\"Country name\":\"Country\"})"
   ]
  },
  {
   "cell_type": "code",
   "execution_count": 22,
   "metadata": {},
   "outputs": [
    {
     "output_type": "execute_result",
     "data": {
      "text/plain": [
       "Index(['Country name', 'Regional indicator', 'Ladder score',\n",
       "       'Standard error of ladder score', 'upperwhisker', 'lowerwhisker',\n",
       "       'Logged GDP per capita', 'Social support', 'Healthy life expectancy',\n",
       "       'Freedom to make life choices', 'Generosity',\n",
       "       'Perceptions of corruption', 'Ladder score in Dystopia',\n",
       "       'Explained by: Log GDP per capita', 'Explained by: Social support',\n",
       "       'Explained by: Healthy life expectancy',\n",
       "       'Explained by: Freedom to make life choices',\n",
       "       'Explained by: Generosity', 'Explained by: Perceptions of corruption',\n",
       "       'Dystopia + residual'],\n",
       "      dtype='object')"
      ]
     },
     "metadata": {},
     "execution_count": 22
    }
   ],
   "source": [
    "datos15.columns\n",
    "datos16.columns\n",
    "datos17.columns\n",
    "datos18.columns\n",
    "datos19.columns\n",
    "datos20.columns"
   ]
  },
  {
   "source": [
    "## Juntando variables"
   ],
   "cell_type": "markdown",
   "metadata": {}
  },
  {
   "source": [
    "### A los datos de panel:"
   ],
   "cell_type": "markdown",
   "metadata": {}
  },
  {
   "cell_type": "code",
   "execution_count": 4,
   "metadata": {},
   "outputs": [
    {
     "output_type": "execute_result",
     "data": {
      "text/plain": [
       "       Country  year  NoMon4Food%\n",
       "0  Afghanistan  2019     0.717399\n",
       "1  Afghanistan  2018     0.567414\n",
       "2  Afghanistan  2017     0.494581\n",
       "3  Afghanistan  2016     0.442636\n",
       "4  Afghanistan  2015     0.466692"
      ],
      "text/html": "<div>\n<style scoped>\n    .dataframe tbody tr th:only-of-type {\n        vertical-align: middle;\n    }\n\n    .dataframe tbody tr th {\n        vertical-align: top;\n    }\n\n    .dataframe thead th {\n        text-align: right;\n    }\n</style>\n<table border=\"1\" class=\"dataframe\">\n  <thead>\n    <tr style=\"text-align: right;\">\n      <th></th>\n      <th>Country</th>\n      <th>year</th>\n      <th>NoMon4Food%</th>\n    </tr>\n  </thead>\n  <tbody>\n    <tr>\n      <th>0</th>\n      <td>Afghanistan</td>\n      <td>2019</td>\n      <td>0.717399</td>\n    </tr>\n    <tr>\n      <th>1</th>\n      <td>Afghanistan</td>\n      <td>2018</td>\n      <td>0.567414</td>\n    </tr>\n    <tr>\n      <th>2</th>\n      <td>Afghanistan</td>\n      <td>2017</td>\n      <td>0.494581</td>\n    </tr>\n    <tr>\n      <th>3</th>\n      <td>Afghanistan</td>\n      <td>2016</td>\n      <td>0.442636</td>\n    </tr>\n    <tr>\n      <th>4</th>\n      <td>Afghanistan</td>\n      <td>2015</td>\n      <td>0.466692</td>\n    </tr>\n  </tbody>\n</table>\n</div>"
     },
     "metadata": {},
     "execution_count": 4
    }
   ],
   "source": [
    "os.chdir(\"C:/Users/Gonzalo/Documents/CURSO3/PRIII/datos_happy_raw/datos_variables\")\n",
    "no_food = pd.read_excel(\"no_food.xlsx\",header=7,usecols=[\"Geography\",\"Time\",\"Yes\"])\n",
    "no_food = no_food.rename(columns={\"Geography\":\"Country\",\"Time\":\"year\",\"Yes\":\"NoMon4Food%\"})\n",
    "no_shelter = pd.read_excel(\"no_shelter.xlsx\",header=7,usecols=[\"Geography\",\"Time\",\"Yes\"])\n",
    "no_shelter = no_shelter.rename(columns={\"Geography\":\"Country\",\"Time\":\"year\",\"Yes\":\"NoMon4Shelter%\"})\n",
    "\n",
    "dic_cambios = {\"United Kingdom of Great Britain and Northern Ireland\":\"United Kingdom\",\n",
    "               \"United States of America\":\"United States\",\n",
    "               \"Cote d'Ivoire\":\"Ivory Coast\" ,\n",
    "               \"Congo, Democratic Republic of the\":\"Congo (Kinshasa)\",\n",
    "               \"Congo\": \"Congo (Brazzaville)\",\n",
    "               \"Eswatini\":\"Swaziland\",\n",
    "               \"Lao People's Democratic Republic\":\"Laos\",\n",
    "               \"Northern Cyprus\":\"North Cyprus\",\n",
    "               \"Moldova, Republic of\":\"Moldova\",\n",
    "               \"Russian Federation\":\"Russia\",\n",
    "               \"Somaliland region\":\"Somalia\"}\n",
    "dic_panel = {'Hong Kong S.A.R. of China': \"Hong Kong\",'Taiwan Province of China':\"Taiwan\",\"Somaliland region\":\"Somalia\"}\n",
    "no_food[\"Country\"].replace(to_replace = dic_cambios,inplace=True)\n",
    "no_shelter[\"Country\"].replace(to_replace = dic_cambios,inplace=True)\n",
    "datos_panel[\"Country\"].replace(dic_panel,inplace=True)\n",
    "no_food.head()"
   ]
  },
  {
   "cell_type": "code",
   "execution_count": 9,
   "metadata": {},
   "outputs": [
    {
     "output_type": "stream",
     "name": "stdout",
     "text": [
      "141 143\n142 142\n147 147\n143 142\n144 144\n113 95\n"
     ]
    },
    {
     "output_type": "execute_result",
     "data": {
      "text/plain": [
       "165"
      ]
     },
     "metadata": {},
     "execution_count": 9
    }
   ],
   "source": [
    "for year in [2015,2016,2017,2018,2019,2020]:\n",
    "    print(len(list(pd.unique(no_food[no_food[\"year\"]==year][\"Country\"]))),len(list(pd.unique(datos_panel[datos_panel[\"year\"]==year][\"Country\"]))))\n",
    "\n",
    "len(pd.unique(datos_panel[\"Country\"]))\n",
    "#len(pd.unique(datos20[\"Country name\"]))"
   ]
  },
  {
   "cell_type": "code",
   "execution_count": 13,
   "metadata": {},
   "outputs": [
    {
     "output_type": "stream",
     "name": "stdout",
     "text": [
      "Belize\nMacedonia\nSudan\nAngola\n"
     ]
    }
   ],
   "source": [
    "dic_panel = {'Hong Kong S.A.R. of China': \"Hong Kong\",'Taiwan Province of China':\"Taiwan\",\"Somaliland region\":\"Somalia\"}\n",
    "datos20[\"Country name\"].replace(dic_panel,inplace=True)\n",
    "datos_panel2 = datos_panel[datos_panel[\"year\"]!=2020]\n",
    "for p in list(pd.unique(datos18[\"Country or region\"])):\n",
    "    if p not in list(pd.unique(datos19[\"Country\"])):\n",
    "        print(p)"
   ]
  },
  {
   "cell_type": "code",
   "execution_count": 15,
   "metadata": {},
   "outputs": [
    {
     "output_type": "execute_result",
     "data": {
      "text/plain": [
       "       Country  year  Life Ladder  Log GDP per capita  Social support  \\\n",
       "0  Afghanistan  2008     3.723590            7.370100        0.450662   \n",
       "1  Afghanistan  2009     4.401778            7.539972        0.552308   \n",
       "2  Afghanistan  2010     4.758381            7.646709        0.539075   \n",
       "3  Afghanistan  2011     3.831719            7.619532        0.521104   \n",
       "4  Afghanistan  2012     3.782938            7.705479        0.520637   \n",
       "\n",
       "   Healthy life expectancy at birth  Freedom to make life choices  Generosity  \\\n",
       "0                         50.799999                      0.718114    0.167640   \n",
       "1                         51.200001                      0.678896    0.190099   \n",
       "2                         51.599998                      0.600127    0.120590   \n",
       "3                         51.919998                      0.495901    0.162427   \n",
       "4                         52.240002                      0.530935    0.236032   \n",
       "\n",
       "   Perceptions of corruption  Positive affect  Negative affect  NoMon4Food%  \\\n",
       "0                   0.881686         0.517637         0.258195     0.486787   \n",
       "1                   0.850035         0.583926         0.237092     0.384065   \n",
       "2                   0.706766         0.618265         0.275324     0.380464   \n",
       "3                   0.731109         0.611387         0.267175     0.447218   \n",
       "4                   0.775620         0.710385         0.267919     0.448324   \n",
       "\n",
       "   NoMon4Shelter%  \n",
       "0            0.64  \n",
       "1            0.46  \n",
       "2            0.47  \n",
       "3            0.52  \n",
       "4            0.44  "
      ],
      "text/html": "<div>\n<style scoped>\n    .dataframe tbody tr th:only-of-type {\n        vertical-align: middle;\n    }\n\n    .dataframe tbody tr th {\n        vertical-align: top;\n    }\n\n    .dataframe thead th {\n        text-align: right;\n    }\n</style>\n<table border=\"1\" class=\"dataframe\">\n  <thead>\n    <tr style=\"text-align: right;\">\n      <th></th>\n      <th>Country</th>\n      <th>year</th>\n      <th>Life Ladder</th>\n      <th>Log GDP per capita</th>\n      <th>Social support</th>\n      <th>Healthy life expectancy at birth</th>\n      <th>Freedom to make life choices</th>\n      <th>Generosity</th>\n      <th>Perceptions of corruption</th>\n      <th>Positive affect</th>\n      <th>Negative affect</th>\n      <th>NoMon4Food%</th>\n      <th>NoMon4Shelter%</th>\n    </tr>\n  </thead>\n  <tbody>\n    <tr>\n      <th>0</th>\n      <td>Afghanistan</td>\n      <td>2008</td>\n      <td>3.723590</td>\n      <td>7.370100</td>\n      <td>0.450662</td>\n      <td>50.799999</td>\n      <td>0.718114</td>\n      <td>0.167640</td>\n      <td>0.881686</td>\n      <td>0.517637</td>\n      <td>0.258195</td>\n      <td>0.486787</td>\n      <td>0.64</td>\n    </tr>\n    <tr>\n      <th>1</th>\n      <td>Afghanistan</td>\n      <td>2009</td>\n      <td>4.401778</td>\n      <td>7.539972</td>\n      <td>0.552308</td>\n      <td>51.200001</td>\n      <td>0.678896</td>\n      <td>0.190099</td>\n      <td>0.850035</td>\n      <td>0.583926</td>\n      <td>0.237092</td>\n      <td>0.384065</td>\n      <td>0.46</td>\n    </tr>\n    <tr>\n      <th>2</th>\n      <td>Afghanistan</td>\n      <td>2010</td>\n      <td>4.758381</td>\n      <td>7.646709</td>\n      <td>0.539075</td>\n      <td>51.599998</td>\n      <td>0.600127</td>\n      <td>0.120590</td>\n      <td>0.706766</td>\n      <td>0.618265</td>\n      <td>0.275324</td>\n      <td>0.380464</td>\n      <td>0.47</td>\n    </tr>\n    <tr>\n      <th>3</th>\n      <td>Afghanistan</td>\n      <td>2011</td>\n      <td>3.831719</td>\n      <td>7.619532</td>\n      <td>0.521104</td>\n      <td>51.919998</td>\n      <td>0.495901</td>\n      <td>0.162427</td>\n      <td>0.731109</td>\n      <td>0.611387</td>\n      <td>0.267175</td>\n      <td>0.447218</td>\n      <td>0.52</td>\n    </tr>\n    <tr>\n      <th>4</th>\n      <td>Afghanistan</td>\n      <td>2012</td>\n      <td>3.782938</td>\n      <td>7.705479</td>\n      <td>0.520637</td>\n      <td>52.240002</td>\n      <td>0.530935</td>\n      <td>0.236032</td>\n      <td>0.775620</td>\n      <td>0.710385</td>\n      <td>0.267919</td>\n      <td>0.448324</td>\n      <td>0.44</td>\n    </tr>\n  </tbody>\n</table>\n</div>"
     },
     "metadata": {},
     "execution_count": 15
    }
   ],
   "source": [
    "datos_panel = datos_panel.merge(no_food,how=\"left\",on=[\"Country\",\"year\"])\n",
    "datos_panel = datos_panel.merge(no_shelter,how=\"left\",on=[\"Country\",\"year\"])\n",
    "datos_panel.head()"
   ]
  },
  {
   "cell_type": "code",
   "execution_count": 16,
   "metadata": {},
   "outputs": [
    {
     "output_type": "stream",
     "name": "stdout",
     "text": [
      "Nagorno-Karabakh Region\nPuerto Rico\n"
     ]
    }
   ],
   "source": [
    "for e in sorted(list(pd.unique(no_food[\"Country\"]))):\n",
    "    if e not in list(pd.unique(datos_panel[\"Country\"])):\n",
    "        print(e)\n",
    "#print(list(pd.unique(no_food[\"Country\"])))\n",
    "#print(sorted(list(pd.unique(datos19[\"Country\"]))))"
   ]
  },
  {
   "source": [
    "### A los datos de 2019"
   ],
   "cell_type": "markdown",
   "metadata": {}
  },
  {
   "cell_type": "code",
   "execution_count": 17,
   "metadata": {},
   "outputs": [
    {
     "output_type": "execute_result",
     "data": {
      "text/plain": [
       "     Overall rank                   Country  Score  GDP per capita  \\\n",
       "0               1                   Finland  7.769           1.340   \n",
       "1               2                   Denmark  7.600           1.383   \n",
       "2               3                    Norway  7.554           1.488   \n",
       "3               4                   Iceland  7.494           1.380   \n",
       "4               5               Netherlands  7.488           1.396   \n",
       "..            ...                       ...    ...             ...   \n",
       "151           152                    Rwanda  3.334           0.359   \n",
       "152           153                  Tanzania  3.231           0.476   \n",
       "153           154               Afghanistan  3.203           0.350   \n",
       "154           155  Central African Republic  3.083           0.026   \n",
       "155           156               South Sudan  2.853           0.306   \n",
       "\n",
       "     Social support  Healthy life expectancy  Freedom to make life choices  \\\n",
       "0             1.587                    0.986                         0.596   \n",
       "1             1.573                    0.996                         0.592   \n",
       "2             1.582                    1.028                         0.603   \n",
       "3             1.624                    1.026                         0.591   \n",
       "4             1.522                    0.999                         0.557   \n",
       "..              ...                      ...                           ...   \n",
       "151           0.711                    0.614                         0.555   \n",
       "152           0.885                    0.499                         0.417   \n",
       "153           0.517                    0.361                         0.000   \n",
       "154           0.000                    0.105                         0.225   \n",
       "155           0.575                    0.295                         0.010   \n",
       "\n",
       "     Generosity  Perceptions of corruption  NoMon4Food%  NoMon4Shelter%  \n",
       "0         0.153                      0.393     0.093634            0.05  \n",
       "1         0.252                      0.410     0.052325            0.05  \n",
       "2         0.271                      0.341     0.073919            0.09  \n",
       "3         0.354                      0.118     0.097958            0.09  \n",
       "4         0.322                      0.298     0.096964            0.08  \n",
       "..          ...                        ...          ...             ...  \n",
       "151       0.217                      0.411     0.809382            0.47  \n",
       "152       0.276                      0.147     0.541845            0.42  \n",
       "153       0.158                      0.025     0.717399            0.52  \n",
       "154       0.235                      0.035          NaN             NaN  \n",
       "155       0.202                      0.091          NaN             NaN  \n",
       "\n",
       "[156 rows x 11 columns]"
      ],
      "text/html": "<div>\n<style scoped>\n    .dataframe tbody tr th:only-of-type {\n        vertical-align: middle;\n    }\n\n    .dataframe tbody tr th {\n        vertical-align: top;\n    }\n\n    .dataframe thead th {\n        text-align: right;\n    }\n</style>\n<table border=\"1\" class=\"dataframe\">\n  <thead>\n    <tr style=\"text-align: right;\">\n      <th></th>\n      <th>Overall rank</th>\n      <th>Country</th>\n      <th>Score</th>\n      <th>GDP per capita</th>\n      <th>Social support</th>\n      <th>Healthy life expectancy</th>\n      <th>Freedom to make life choices</th>\n      <th>Generosity</th>\n      <th>Perceptions of corruption</th>\n      <th>NoMon4Food%</th>\n      <th>NoMon4Shelter%</th>\n    </tr>\n  </thead>\n  <tbody>\n    <tr>\n      <th>0</th>\n      <td>1</td>\n      <td>Finland</td>\n      <td>7.769</td>\n      <td>1.340</td>\n      <td>1.587</td>\n      <td>0.986</td>\n      <td>0.596</td>\n      <td>0.153</td>\n      <td>0.393</td>\n      <td>0.093634</td>\n      <td>0.05</td>\n    </tr>\n    <tr>\n      <th>1</th>\n      <td>2</td>\n      <td>Denmark</td>\n      <td>7.600</td>\n      <td>1.383</td>\n      <td>1.573</td>\n      <td>0.996</td>\n      <td>0.592</td>\n      <td>0.252</td>\n      <td>0.410</td>\n      <td>0.052325</td>\n      <td>0.05</td>\n    </tr>\n    <tr>\n      <th>2</th>\n      <td>3</td>\n      <td>Norway</td>\n      <td>7.554</td>\n      <td>1.488</td>\n      <td>1.582</td>\n      <td>1.028</td>\n      <td>0.603</td>\n      <td>0.271</td>\n      <td>0.341</td>\n      <td>0.073919</td>\n      <td>0.09</td>\n    </tr>\n    <tr>\n      <th>3</th>\n      <td>4</td>\n      <td>Iceland</td>\n      <td>7.494</td>\n      <td>1.380</td>\n      <td>1.624</td>\n      <td>1.026</td>\n      <td>0.591</td>\n      <td>0.354</td>\n      <td>0.118</td>\n      <td>0.097958</td>\n      <td>0.09</td>\n    </tr>\n    <tr>\n      <th>4</th>\n      <td>5</td>\n      <td>Netherlands</td>\n      <td>7.488</td>\n      <td>1.396</td>\n      <td>1.522</td>\n      <td>0.999</td>\n      <td>0.557</td>\n      <td>0.322</td>\n      <td>0.298</td>\n      <td>0.096964</td>\n      <td>0.08</td>\n    </tr>\n    <tr>\n      <th>...</th>\n      <td>...</td>\n      <td>...</td>\n      <td>...</td>\n      <td>...</td>\n      <td>...</td>\n      <td>...</td>\n      <td>...</td>\n      <td>...</td>\n      <td>...</td>\n      <td>...</td>\n      <td>...</td>\n    </tr>\n    <tr>\n      <th>151</th>\n      <td>152</td>\n      <td>Rwanda</td>\n      <td>3.334</td>\n      <td>0.359</td>\n      <td>0.711</td>\n      <td>0.614</td>\n      <td>0.555</td>\n      <td>0.217</td>\n      <td>0.411</td>\n      <td>0.809382</td>\n      <td>0.47</td>\n    </tr>\n    <tr>\n      <th>152</th>\n      <td>153</td>\n      <td>Tanzania</td>\n      <td>3.231</td>\n      <td>0.476</td>\n      <td>0.885</td>\n      <td>0.499</td>\n      <td>0.417</td>\n      <td>0.276</td>\n      <td>0.147</td>\n      <td>0.541845</td>\n      <td>0.42</td>\n    </tr>\n    <tr>\n      <th>153</th>\n      <td>154</td>\n      <td>Afghanistan</td>\n      <td>3.203</td>\n      <td>0.350</td>\n      <td>0.517</td>\n      <td>0.361</td>\n      <td>0.000</td>\n      <td>0.158</td>\n      <td>0.025</td>\n      <td>0.717399</td>\n      <td>0.52</td>\n    </tr>\n    <tr>\n      <th>154</th>\n      <td>155</td>\n      <td>Central African Republic</td>\n      <td>3.083</td>\n      <td>0.026</td>\n      <td>0.000</td>\n      <td>0.105</td>\n      <td>0.225</td>\n      <td>0.235</td>\n      <td>0.035</td>\n      <td>NaN</td>\n      <td>NaN</td>\n    </tr>\n    <tr>\n      <th>155</th>\n      <td>156</td>\n      <td>South Sudan</td>\n      <td>2.853</td>\n      <td>0.306</td>\n      <td>0.575</td>\n      <td>0.295</td>\n      <td>0.010</td>\n      <td>0.202</td>\n      <td>0.091</td>\n      <td>NaN</td>\n      <td>NaN</td>\n    </tr>\n  </tbody>\n</table>\n<p>156 rows × 11 columns</p>\n</div>"
     },
     "metadata": {},
     "execution_count": 17
    }
   ],
   "source": [
    "no_food = pd.read_excel(\"no_food.xlsx\",header=7,usecols=[\"Geography\",\"Time\",\"Yes\"])\n",
    "no_food = no_food.rename(columns={\"Geography\":\"Country\",\"Time\":\"year\",\"Yes\":\"NoMon4Food%\"})\n",
    "no_shelter = pd.read_excel(\"no_shelter.xlsx\",header=7,usecols=[\"Geography\",\"Time\",\"Yes\"])\n",
    "no_shelter = no_shelter.rename(columns={\"Geography\":\"Country\",\"Time\":\"year\",\"Yes\":\"NoMon4Shelter%\"})\n",
    "dic_cambios = {\"United Kingdom of Great Britain and Northern Ireland\":\"United Kingdom\",\n",
    "               \"United States of America\":\"United States\",\n",
    "               \"Cote d'Ivoire\":\"Ivory Coast\" ,\n",
    "               \"Congo, Democratic Republic of the\":\"Congo (Kinshasa)\",\n",
    "               \"Congo\": \"Congo (Brazzaville)\",\n",
    "               \"Eswatini\":\"Swaziland\",\n",
    "               \"Lao People's Democratic Republic\":\"Laos\",\n",
    "               \"Moldova, Republic of\":\"Moldova\",\n",
    "               \"Russian Federation\":\"Russia\",\n",
    "               \"Somaliland region\":\"Somalia\"}\n",
    "dic = {\"Trinidad & Tobago\":\"Trinidad and Tobago\"}\n",
    "no_food[\"Country\"].replace(to_replace = dic_cambios,inplace=True)\n",
    "no_shelter[\"Country\"].replace(to_replace = dic_cambios,inplace=True)\n",
    "datos19[\"Country\"].replace(dic,inplace=True)\n",
    "\n",
    "datos19 = datos19.merge(no_food[no_food[\"year\"]==2019][[\"Country\",\"NoMon4Food%\"]],how=\"left\",on=[\"Country\"])\n",
    "datos19 = datos19.merge(no_shelter[no_shelter[\"year\"]==2019][[\"Country\",\"NoMon4Shelter%\"]],how=\"left\",on=[\"Country\"])\n",
    "datos19"
   ]
  },
  {
   "cell_type": "code",
   "execution_count": 38,
   "metadata": {},
   "outputs": [
    {
     "output_type": "stream",
     "name": "stdout",
     "text": [
      "Angola\nBelize\nDjibouti\nGuyana\nMaldives\nNagorno-Karabakh Region\nOman\nPuerto Rico\nSudan\nSuriname\n"
     ]
    }
   ],
   "source": [
    "for e in sorted(list(pd.unique(no_food[\"Country\"]))):\n",
    "    if e not in list(pd.unique(datos19[\"Country\"])):\n",
    "        print(e)\n",
    "#print(list(pd.unique(no_food[\"Country\"])))\n",
    "#print(\"\\n\")\n",
    "#print(sorted(list(pd.unique(datos19[\"Country\"]))))"
   ]
  },
  {
   "source": [
    "### A los de 2020"
   ],
   "cell_type": "markdown",
   "metadata": {}
  },
  {
   "cell_type": "code",
   "execution_count": 40,
   "metadata": {},
   "outputs": [
    {
     "output_type": "stream",
     "name": "stdout",
     "text": [
      "Hong Kong\nNorth Macedonia\nTaiwan\n"
     ]
    }
   ],
   "source": [
    "for e in sorted(list(pd.unique(no_food[no_food[\"year\"]==2020][\"Country\"]))):\n",
    "    if e not in list(pd.unique(datos20[\"Country name\"])):\n",
    "        print(e)"
   ]
  },
  {
   "source": [
    "nofood-->2019data\n",
    "\"United Kingdom of Great Britain and Northern Ireland\":\"United Kingdom\"\n",
    "\"United States of America\":\"United States\"\n",
    "\"Trinidad and Tobago\":\"Trinidad & Tobago\"\n",
    "Laos tampoco.\n",
    "\"Cote d'Ivoire\":\"Ivory Coast\" \n",
    "\"Congo, Democratic Republic of the\":\"Congo (Kinshasa)\"\n",
    "\"Congo\": \"Congo (Brazzaville)\"\n",
    "\"Swatini\":Swaziland\""
   ],
   "cell_type": "markdown",
   "metadata": {}
  },
  {
   "cell_type": "code",
   "execution_count": 19,
   "metadata": {},
   "outputs": [],
   "source": [
    "os.chdir(\"C:/Users/Gonzalo/Documents/CURSO3/PRIII/datos_happy_raw/datos_nuevos\")\n",
    "datos_panel.to_excel(\"panel_data2.xlsx\")\n",
    "datos19.to_excel(\"datos2k192.xlsx\")"
   ]
  },
  {
   "cell_type": "code",
   "execution_count": null,
   "metadata": {},
   "outputs": [],
   "source": []
  },
  {
   "cell_type": "code",
   "execution_count": 14,
   "metadata": {},
   "outputs": [
    {
     "output_type": "execute_result",
     "data": {
      "text/plain": [
       "         Country          Region  Happiness Rank  Happiness Score  \\\n",
       "0    Switzerland  Western Europe             1.0            7.587   \n",
       "1        Iceland  Western Europe             2.0            7.561   \n",
       "2        Denmark  Western Europe             3.0            7.527   \n",
       "3         Norway  Western Europe             4.0            7.522   \n",
       "4         Canada   North America             5.0            7.427   \n",
       "..           ...             ...             ...              ...   \n",
       "148          NaN             NaN             NaN              NaN   \n",
       "149          NaN             NaN             NaN              NaN   \n",
       "150          NaN             NaN             NaN              NaN   \n",
       "151          NaN             NaN             NaN              NaN   \n",
       "152          NaN             NaN             NaN              NaN   \n",
       "\n",
       "     Standard Error  Economy (GDP per Capita)   Family  \\\n",
       "0           0.03411                   1.39651  1.34951   \n",
       "1           0.04884                   1.30232  1.40223   \n",
       "2           0.03328                   1.32548  1.36058   \n",
       "3           0.03880                   1.45900  1.33095   \n",
       "4           0.03553                   1.32629  1.32261   \n",
       "..              ...                       ...      ...   \n",
       "148             NaN                       NaN      NaN   \n",
       "149             NaN                       NaN      NaN   \n",
       "150             NaN                       NaN      NaN   \n",
       "151             NaN                       NaN      NaN   \n",
       "152             NaN                       NaN      NaN   \n",
       "\n",
       "     Health (Life Expectancy)  Freedom  Trust (Government Corruption)  ...  \\\n",
       "0                     0.94143  0.66557                        0.41978  ...   \n",
       "1                     0.94784  0.62877                        0.14145  ...   \n",
       "2                     0.87464  0.64938                        0.48357  ...   \n",
       "3                     0.88521  0.66973                        0.36503  ...   \n",
       "4                     0.90563  0.63297                        0.32957  ...   \n",
       "..                        ...      ...                            ...  ...   \n",
       "148                       NaN      NaN                            NaN  ...   \n",
       "149                       NaN      NaN                            NaN  ...   \n",
       "150                       NaN      NaN                            NaN  ...   \n",
       "151                       NaN      NaN                            NaN  ...   \n",
       "152                       NaN      NaN                            NaN  ...   \n",
       "\n",
       "     lowerwhisker  Logged GDP per capita  Ladder score in Dystopia  \\\n",
       "0             NaN                    NaN                       NaN   \n",
       "1             NaN                    NaN                       NaN   \n",
       "2             NaN                    NaN                       NaN   \n",
       "3             NaN                    NaN                       NaN   \n",
       "4             NaN                    NaN                       NaN   \n",
       "..            ...                    ...                       ...   \n",
       "148      3.250141               6.625160                  1.972317   \n",
       "149      3.209547               7.600104                  1.972317   \n",
       "150      3.184198               7.865712                  1.972317   \n",
       "151      2.605684               7.425360                  1.972317   \n",
       "152      2.505530               7.462861                  1.972317   \n",
       "\n",
       "     Explained by: Log GDP per capita  Explained by: Social support  \\\n",
       "0                                 NaN                           NaN   \n",
       "1                                 NaN                           NaN   \n",
       "2                                 NaN                           NaN   \n",
       "3                                 NaN                           NaN   \n",
       "4                                 NaN                           NaN   \n",
       "..                                ...                           ...   \n",
       "148                          0.041072                      0.000000   \n",
       "149                          0.343243                      0.522876   \n",
       "150                          0.425564                      1.047835   \n",
       "151                          0.289083                      0.553279   \n",
       "152                          0.300706                      0.356434   \n",
       "\n",
       "     Explained by: Healthy life expectancy  \\\n",
       "0                                      NaN   \n",
       "1                                      NaN   \n",
       "2                                      NaN   \n",
       "3                                      NaN   \n",
       "4                                      NaN   \n",
       "..                                     ...   \n",
       "148                               0.000000   \n",
       "149                               0.572383   \n",
       "150                               0.375038   \n",
       "151                               0.208809   \n",
       "152                               0.266052   \n",
       "\n",
       "     Explained by: Freedom to make life choices  Explained by: Generosity  \\\n",
       "0                                           NaN                       NaN   \n",
       "1                                           NaN                       NaN   \n",
       "2                                           NaN                       NaN   \n",
       "3                                           NaN                       NaN   \n",
       "4                                           NaN                       NaN   \n",
       "..                                          ...                       ...   \n",
       "148                                    0.292814                  0.253513   \n",
       "149                                    0.604088                  0.235705   \n",
       "150                                    0.377405                  0.151349   \n",
       "151                                    0.065609                  0.209935   \n",
       "152                                    0.000000                  0.135235   \n",
       "\n",
       "     Explained by: Perceptions of corruption  Dystopia + residual  \n",
       "0                                        NaN                  NaN  \n",
       "1                                        NaN                  NaN  \n",
       "2                                        NaN                  NaN  \n",
       "3                                        NaN                  NaN  \n",
       "4                                        NaN                  NaN  \n",
       "..                                       ...                  ...  \n",
       "148                                 0.028265             2.860198  \n",
       "149                                 0.485542             0.548445  \n",
       "150                                 0.080929             0.841031  \n",
       "151                                 0.111157             1.378751  \n",
       "152                                 0.001226             1.507236  \n",
       "\n",
       "[935 rows x 45 columns]"
      ],
      "text/html": "<div>\n<style scoped>\n    .dataframe tbody tr th:only-of-type {\n        vertical-align: middle;\n    }\n\n    .dataframe tbody tr th {\n        vertical-align: top;\n    }\n\n    .dataframe thead th {\n        text-align: right;\n    }\n</style>\n<table border=\"1\" class=\"dataframe\">\n  <thead>\n    <tr style=\"text-align: right;\">\n      <th></th>\n      <th>Country</th>\n      <th>Region</th>\n      <th>Happiness Rank</th>\n      <th>Happiness Score</th>\n      <th>Standard Error</th>\n      <th>Economy (GDP per Capita)</th>\n      <th>Family</th>\n      <th>Health (Life Expectancy)</th>\n      <th>Freedom</th>\n      <th>Trust (Government Corruption)</th>\n      <th>...</th>\n      <th>lowerwhisker</th>\n      <th>Logged GDP per capita</th>\n      <th>Ladder score in Dystopia</th>\n      <th>Explained by: Log GDP per capita</th>\n      <th>Explained by: Social support</th>\n      <th>Explained by: Healthy life expectancy</th>\n      <th>Explained by: Freedom to make life choices</th>\n      <th>Explained by: Generosity</th>\n      <th>Explained by: Perceptions of corruption</th>\n      <th>Dystopia + residual</th>\n    </tr>\n  </thead>\n  <tbody>\n    <tr>\n      <th>0</th>\n      <td>Switzerland</td>\n      <td>Western Europe</td>\n      <td>1.0</td>\n      <td>7.587</td>\n      <td>0.03411</td>\n      <td>1.39651</td>\n      <td>1.34951</td>\n      <td>0.94143</td>\n      <td>0.66557</td>\n      <td>0.41978</td>\n      <td>...</td>\n      <td>NaN</td>\n      <td>NaN</td>\n      <td>NaN</td>\n      <td>NaN</td>\n      <td>NaN</td>\n      <td>NaN</td>\n      <td>NaN</td>\n      <td>NaN</td>\n      <td>NaN</td>\n      <td>NaN</td>\n    </tr>\n    <tr>\n      <th>1</th>\n      <td>Iceland</td>\n      <td>Western Europe</td>\n      <td>2.0</td>\n      <td>7.561</td>\n      <td>0.04884</td>\n      <td>1.30232</td>\n      <td>1.40223</td>\n      <td>0.94784</td>\n      <td>0.62877</td>\n      <td>0.14145</td>\n      <td>...</td>\n      <td>NaN</td>\n      <td>NaN</td>\n      <td>NaN</td>\n      <td>NaN</td>\n      <td>NaN</td>\n      <td>NaN</td>\n      <td>NaN</td>\n      <td>NaN</td>\n      <td>NaN</td>\n      <td>NaN</td>\n    </tr>\n    <tr>\n      <th>2</th>\n      <td>Denmark</td>\n      <td>Western Europe</td>\n      <td>3.0</td>\n      <td>7.527</td>\n      <td>0.03328</td>\n      <td>1.32548</td>\n      <td>1.36058</td>\n      <td>0.87464</td>\n      <td>0.64938</td>\n      <td>0.48357</td>\n      <td>...</td>\n      <td>NaN</td>\n      <td>NaN</td>\n      <td>NaN</td>\n      <td>NaN</td>\n      <td>NaN</td>\n      <td>NaN</td>\n      <td>NaN</td>\n      <td>NaN</td>\n      <td>NaN</td>\n      <td>NaN</td>\n    </tr>\n    <tr>\n      <th>3</th>\n      <td>Norway</td>\n      <td>Western Europe</td>\n      <td>4.0</td>\n      <td>7.522</td>\n      <td>0.03880</td>\n      <td>1.45900</td>\n      <td>1.33095</td>\n      <td>0.88521</td>\n      <td>0.66973</td>\n      <td>0.36503</td>\n      <td>...</td>\n      <td>NaN</td>\n      <td>NaN</td>\n      <td>NaN</td>\n      <td>NaN</td>\n      <td>NaN</td>\n      <td>NaN</td>\n      <td>NaN</td>\n      <td>NaN</td>\n      <td>NaN</td>\n      <td>NaN</td>\n    </tr>\n    <tr>\n      <th>4</th>\n      <td>Canada</td>\n      <td>North America</td>\n      <td>5.0</td>\n      <td>7.427</td>\n      <td>0.03553</td>\n      <td>1.32629</td>\n      <td>1.32261</td>\n      <td>0.90563</td>\n      <td>0.63297</td>\n      <td>0.32957</td>\n      <td>...</td>\n      <td>NaN</td>\n      <td>NaN</td>\n      <td>NaN</td>\n      <td>NaN</td>\n      <td>NaN</td>\n      <td>NaN</td>\n      <td>NaN</td>\n      <td>NaN</td>\n      <td>NaN</td>\n      <td>NaN</td>\n    </tr>\n    <tr>\n      <th>...</th>\n      <td>...</td>\n      <td>...</td>\n      <td>...</td>\n      <td>...</td>\n      <td>...</td>\n      <td>...</td>\n      <td>...</td>\n      <td>...</td>\n      <td>...</td>\n      <td>...</td>\n      <td>...</td>\n      <td>...</td>\n      <td>...</td>\n      <td>...</td>\n      <td>...</td>\n      <td>...</td>\n      <td>...</td>\n      <td>...</td>\n      <td>...</td>\n      <td>...</td>\n      <td>...</td>\n    </tr>\n    <tr>\n      <th>148</th>\n      <td>NaN</td>\n      <td>NaN</td>\n      <td>NaN</td>\n      <td>NaN</td>\n      <td>NaN</td>\n      <td>NaN</td>\n      <td>NaN</td>\n      <td>NaN</td>\n      <td>NaN</td>\n      <td>NaN</td>\n      <td>...</td>\n      <td>3.250141</td>\n      <td>6.625160</td>\n      <td>1.972317</td>\n      <td>0.041072</td>\n      <td>0.000000</td>\n      <td>0.000000</td>\n      <td>0.292814</td>\n      <td>0.253513</td>\n      <td>0.028265</td>\n      <td>2.860198</td>\n    </tr>\n    <tr>\n      <th>149</th>\n      <td>NaN</td>\n      <td>NaN</td>\n      <td>NaN</td>\n      <td>NaN</td>\n      <td>NaN</td>\n      <td>NaN</td>\n      <td>NaN</td>\n      <td>NaN</td>\n      <td>NaN</td>\n      <td>NaN</td>\n      <td>...</td>\n      <td>3.209547</td>\n      <td>7.600104</td>\n      <td>1.972317</td>\n      <td>0.343243</td>\n      <td>0.522876</td>\n      <td>0.572383</td>\n      <td>0.604088</td>\n      <td>0.235705</td>\n      <td>0.485542</td>\n      <td>0.548445</td>\n    </tr>\n    <tr>\n      <th>150</th>\n      <td>NaN</td>\n      <td>NaN</td>\n      <td>NaN</td>\n      <td>NaN</td>\n      <td>NaN</td>\n      <td>NaN</td>\n      <td>NaN</td>\n      <td>NaN</td>\n      <td>NaN</td>\n      <td>NaN</td>\n      <td>...</td>\n      <td>3.184198</td>\n      <td>7.865712</td>\n      <td>1.972317</td>\n      <td>0.425564</td>\n      <td>1.047835</td>\n      <td>0.375038</td>\n      <td>0.377405</td>\n      <td>0.151349</td>\n      <td>0.080929</td>\n      <td>0.841031</td>\n    </tr>\n    <tr>\n      <th>151</th>\n      <td>NaN</td>\n      <td>NaN</td>\n      <td>NaN</td>\n      <td>NaN</td>\n      <td>NaN</td>\n      <td>NaN</td>\n      <td>NaN</td>\n      <td>NaN</td>\n      <td>NaN</td>\n      <td>NaN</td>\n      <td>...</td>\n      <td>2.605684</td>\n      <td>7.425360</td>\n      <td>1.972317</td>\n      <td>0.289083</td>\n      <td>0.553279</td>\n      <td>0.208809</td>\n      <td>0.065609</td>\n      <td>0.209935</td>\n      <td>0.111157</td>\n      <td>1.378751</td>\n    </tr>\n    <tr>\n      <th>152</th>\n      <td>NaN</td>\n      <td>NaN</td>\n      <td>NaN</td>\n      <td>NaN</td>\n      <td>NaN</td>\n      <td>NaN</td>\n      <td>NaN</td>\n      <td>NaN</td>\n      <td>NaN</td>\n      <td>NaN</td>\n      <td>...</td>\n      <td>2.505530</td>\n      <td>7.462861</td>\n      <td>1.972317</td>\n      <td>0.300706</td>\n      <td>0.356434</td>\n      <td>0.266052</td>\n      <td>0.000000</td>\n      <td>0.135235</td>\n      <td>0.001226</td>\n      <td>1.507236</td>\n    </tr>\n  </tbody>\n</table>\n<p>935 rows × 45 columns</p>\n</div>"
     },
     "metadata": {},
     "execution_count": 14
    }
   ],
   "source": [
    "pd.concat([datos15,datos16,datos17,datos18,datos19,datos20])"
   ]
  }
 ]
}
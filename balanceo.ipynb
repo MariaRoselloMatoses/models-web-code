{
 "metadata": {
  "language_info": {
   "codemirror_mode": {
    "name": "ipython",
    "version": 3
   },
   "file_extension": ".py",
   "mimetype": "text/x-python",
   "name": "python",
   "nbconvert_exporter": "python",
   "pygments_lexer": "ipython3",
   "version": "3.8.3"
  },
  "orig_nbformat": 2,
  "kernelspec": {
   "name": "python383jvsc74a57bd0b6e840c0d6ecd3ac8eb2ec219e2295de2c73e3d6186b0bfbaddb1c0437151cf6",
   "display_name": "Python 3.8.3 64-bit (conda)"
  }
 },
 "nbformat": 4,
 "nbformat_minor": 2,
 "cells": [
  {
   "cell_type": "code",
   "execution_count": 1,
   "metadata": {},
   "outputs": [],
   "source": [
    "import pandas as pd"
   ]
  },
  {
   "source": [
    "## Balanceo de datos de Gallup"
   ],
   "cell_type": "markdown",
   "metadata": {}
  },
  {
   "cell_type": "code",
   "execution_count": 2,
   "metadata": {},
   "outputs": [],
   "source": [
    "datos = pd.read_excel(\"p2.xlsx\")\n",
    "p15 = datos[datos[\"year\"]==2015]\n",
    "p16 = datos[datos[\"year\"]==2016]\n",
    "p17 = datos[datos[\"year\"]==2017]\n",
    "p18 = datos[datos[\"year\"]==2018]\n",
    "p19 = datos[datos[\"year\"]==2019]\n",
    "p20 = datos[datos[\"year\"]==2020]"
   ]
  },
  {
   "cell_type": "code",
   "execution_count": 3,
   "metadata": {},
   "outputs": [],
   "source": [
    "#bal = p15.merge(p16,how=\"inner\",on=[\"Country\"])\n",
    "bal = p16\n",
    "bal = bal.merge(p17,how=\"inner\",on=[\"Country\"])\n",
    "bal = bal.merge(p18,how=\"inner\",on=[\"Country\"])\n",
    "bal = bal.merge(p19,how=\"inner\",on=[\"Country\"])\n",
    "bal = bal.merge(p20,how=\"inner\",on=[\"Country\"])"
   ]
  },
  {
   "cell_type": "code",
   "execution_count": 4,
   "metadata": {},
   "outputs": [],
   "source": [
    "bal2 = bal[[\"Country\"]]"
   ]
  },
  {
   "cell_type": "code",
   "execution_count": 5,
   "metadata": {},
   "outputs": [],
   "source": [
    "balanceo = datos[datos[\"Country\"].isin(list(bal2[\"Country\"]))]\n",
    "balanceosin15 = balanceo[balanceo[\"year\"] != 2015]"
   ]
  },
  {
   "cell_type": "code",
   "execution_count": 6,
   "metadata": {},
   "outputs": [],
   "source": [
    "balanceosin15.to_excel(\"ballanced_gallup.xlsx\")"
   ]
  },
  {
   "source": [
    "## Balanceo SDGs"
   ],
   "cell_type": "markdown",
   "metadata": {}
  },
  {
   "cell_type": "code",
   "execution_count": 8,
   "metadata": {},
   "outputs": [
    {
     "output_type": "stream",
     "name": "stdout",
     "text": [
      "['Afghanistan', 'Albania', 'Algeria', 'Angola', 'Argentina', 'Armenia', 'Australia', 'Austria', 'Azerbaijan', 'Bahrain', 'Bangladesh', 'Belarus', 'Belgium', 'Belize', 'Benin', 'Bhutan', 'Bolivia', 'Bosnia and Herzegovina', 'Botswana', 'Brazil', 'Bulgaria', 'Burkina Faso', 'Burundi', 'Cambodia', 'Cameroon', 'Canada', 'Central African Republic', 'Chad', 'Chile', 'China', 'Colombia', 'Comoros', 'Congo (Brazzaville)', 'Congo (Kinshasa)', 'Costa Rica', 'Croatia', 'Cyprus', 'Czech Republic', 'Denmark', 'Djibouti', 'Dominican Republic', 'Ecuador', 'Egypt', 'El Salvador', 'Estonia', 'Ethiopia', 'Finland', 'France', 'Gabon', 'Gambia', 'Georgia', 'Germany', 'Ghana', 'Greece', 'Guatemala', 'Guinea', 'Haiti', 'Honduras', 'Hong Kong', 'Hungary', 'Iceland', 'India', 'Indonesia', 'Iran', 'Iraq', 'Ireland', 'Israel', 'Italy', 'Ivory Coast', 'Jamaica', 'Japan', 'Jordan', 'Kazakhstan', 'Kenya', 'Kosovo', 'Kuwait', 'Kyrgyzstan', 'Laos', 'Latvia', 'Lebanon', 'Lesotho', 'Liberia', 'Libya', 'Lithuania', 'Luxembourg', 'Macedonia', 'Madagascar', 'Malawi', 'Malaysia', 'Maldives', 'Mali', 'Malta', 'Mauritania', 'Mauritius', 'Mexico', 'Moldova', 'Mongolia', 'Montenegro', 'Morocco', 'Mozambique', 'Myanmar', 'Namibia', 'Nepal', 'Netherlands', 'New Zealand', 'Nicaragua', 'Niger', 'Nigeria', 'Northern Cyprus', 'Norway', 'Oman', 'Pakistan', 'Palestinian Territories', 'Panama', 'Paraguay', 'Peru', 'Philippines', 'Poland', 'Portugal', 'Puerto Rico', 'Qatar', 'Romania', 'Russia', 'Rwanda', 'Saudi Arabia', 'Senegal', 'Serbia', 'Sierra Leone', 'Singapore', 'Slovakia', 'Slovenia', 'Somalia', 'South Africa', 'South Korea', 'South Sudan', 'Spain', 'Sri Lanka', 'Sudan', 'Suriname', 'Swaziland', 'Sweden', 'Switzerland', 'Syria', 'Taiwan', 'Tajikistan', 'Tanzania', 'Thailand', 'Togo', 'Trinidad and Tobago', 'Tunisia', 'Turkey', 'Turkmenistan', 'Uganda', 'Ukraine', 'United Arab Emirates', 'United Kingdom', 'United States', 'Uruguay', 'Uzbekistan', 'Venezuela', 'Vietnam', 'Yemen', 'Zambia', 'Zimbabwe']\n"
     ]
    }
   ],
   "source": [
    "print(sorted(list(pd.unique(datos[\"Country\"]))))"
   ]
  },
  {
   "cell_type": "code",
   "execution_count": 13,
   "metadata": {},
   "outputs": [
    {
     "output_type": "stream",
     "name": "stdout",
     "text": [
      "Andorra\nAntigua and Barbuda\nBahamas, The\nBarbados\nBrunei Darussalam\nCabo Verde\nCuba\nDominica\nEast and South Asia\nEastern Europe and Central Asia\nEquatorial Guinea\nEritrea\nFiji\nGrenada\nGuinea-Bissau\nGuyana\nHigh-income Countries\nKiribati\nLatin America and the Caribbean\nLiechtenstein\nLow-income Countries\nLower-middle-income Countries\nMarshall Islands\nMicronesia, Fed. Sts.\nMiddle East and North Africa\nMonaco\nNauru\nNorth Korea\nOECD members\nOceania\nPalau\nPapua New Guinea\nSamoa\nSan Marino\nSao Tome and Principe\nSeychelles\nSolomon Islands\nSt. Kitts and Nevis\nSt. Lucia\nSt. Vincent and the Grenadines\nSub-Saharan Africa\nTimor-Leste\nTonga\nTuvalu\nUpper-middle-income Countries\nVanuatu\n"
     ]
    }
   ],
   "source": [
    "def listar_no_incluidos(panel,datos_var):\n",
    "    for e in sorted(list(pd.unique(datos_var[\"Country\"]))):\n",
    "        if e not in list(pd.unique(panel[\"Country\"])):\n",
    "            print(e)\n",
    "listar_no_incluidos(datos,sdgs)"
   ]
  },
  {
   "cell_type": "code",
   "execution_count": 14,
   "metadata": {},
   "outputs": [],
   "source": [
    "sdgs = pd.read_excel(\"SGD_panel_2017_2020.xlsx\")\n",
    "dic = {'Former Yugoslav Republic of Macedonia (FYROM)':\"Macedonia\",\n",
    "       'Macedonia, FYR':\"Macedonia\",\n",
    "       \"North Macedonia\":\"Macedonia\",\n",
    "       'Congo, Dem. Rep.':'Congo (Kinshasa)',\n",
    "       'Congo, Rep.':'Congo (Brazzaville)',\n",
    "       \"Cote d'Ivoire\":\"Ivory Coast\",\n",
    "       'Egypt, Arab Rep.':\"Egypt\",\n",
    "       \"Eswatini\":\"Swaziland\",\n",
    "       'Gambia, The':\"Gambia\",\n",
    "       'Iran, Islamic Rep.':\"Iran\",\n",
    "       'Korea, Dem. Rep.':\"North Korea\",\n",
    "       'Korea, Rep.':\"South Korea\",\n",
    "       'Kyrgyz Republic':\"Kyrgyzstan\", \n",
    "       'Lao PDR':\"Laos\",\n",
    "       'Russian Federation':\"Russia\",\n",
    "       \"Slovak Republic\":\"Slovakia\",\n",
    "       \"Syrian Arab Republic\":\"Syria\",\n",
    "       \"Venezuela, RB\":\"Venezuela\",\n",
    "       \"Yemen, Rep.\":\"Yemen\"}\n",
    "sdgs[\"Country\"].replace(to_replace=dic,inplace=True)\n",
    "#print(sorted(list(pd.unique(sdgs[\"Country\"]))))\n",
    "s17 = sdgs[sdgs[\"year\"]==2017]\n",
    "s18 = sdgs[sdgs[\"year\"]==2018]\n",
    "s19 = sdgs[sdgs[\"year\"]==2019]\n",
    "s20 = sdgs[sdgs[\"year\"]==2020]\n",
    "#north macedonia-->macedonia"
   ]
  },
  {
   "cell_type": "code",
   "execution_count": 15,
   "metadata": {},
   "outputs": [],
   "source": [
    "a = s17\n",
    "a = a.merge(s18,on=[\"Country\"],how=\"inner\")\n",
    "a = a.merge(s19,on=[\"Country\"],how=\"inner\")\n",
    "a = a.merge(s20,on=[\"Country\"],how=\"inner\")"
   ]
  },
  {
   "cell_type": "code",
   "execution_count": 16,
   "metadata": {},
   "outputs": [],
   "source": [
    "balanceo_sd = sdgs[sdgs[\"Country\"].isin(list(a[\"Country\"]))]"
   ]
  },
  {
   "cell_type": "code",
   "execution_count": 17,
   "metadata": {},
   "outputs": [],
   "source": [
    "balanceo_sd.to_excel(\"sdgs2017_ballanced.xlsx\")"
   ]
  }
 ]
}
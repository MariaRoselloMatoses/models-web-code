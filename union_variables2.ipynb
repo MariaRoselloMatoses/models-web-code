{
 "metadata": {
  "language_info": {
   "codemirror_mode": {
    "name": "ipython",
    "version": 3
   },
   "file_extension": ".py",
   "mimetype": "text/x-python",
   "name": "python",
   "nbconvert_exporter": "python",
   "pygments_lexer": "ipython3",
   "version": "3.8.3"
  },
  "orig_nbformat": 2,
  "kernelspec": {
   "name": "python383jvsc74a57bd0cc3f330b50fe39be0c0be814fceb468cf76a12b0f7c5ddfcadc5b692d04ca0b6",
   "display_name": "Python 3.8.3 64-bit ('base': conda)"
  }
 },
 "nbformat": 4,
 "nbformat_minor": 2,
 "cells": [
  {
   "cell_type": "code",
   "execution_count": 1,
   "metadata": {},
   "outputs": [],
   "source": [
    "import os \n",
    "import pandas as pd\n",
    "panel = pd.read_excel(\"gallup_conjunto.xlsx\")"
   ]
  },
  {
   "cell_type": "code",
   "execution_count": 2,
   "metadata": {},
   "outputs": [],
   "source": [
    "os.chdir(\"C:/Users/Gonzalo/Documents/CURSO3/PRIII/datos_happy_raw/datos_variables\")\n",
    "no_food = pd.read_excel(\"no_food.xlsx\",header=7,usecols=[\"Geography\",\"Time\",\"Yes\"])\n",
    "no_food = no_food.rename(columns={\"Geography\":\"Country\",\"Time\":\"year\",\"Yes\":\"NoMon4Food%\"})\n",
    "\n",
    "no_shelter = pd.read_excel(\"no_shelter.xlsx\",header=7,usecols=[\"Geography\",\"Time\",\"Yes\"])\n",
    "no_shelter = no_shelter.rename(columns={\"Geography\":\"Country\",\"Time\":\"year\",\"Yes\":\"NoMon4Shelter%\"})\n",
    "\n",
    "children = pd.read_excel(\"children_learn_grow.xlsx\",header=7,usecols=[\"Geography\",\"Time\",\"Yes\"])\n",
    "children = children.rename(columns={\"Geography\":\"Country\",\"Time\":\"year\",\"Yes\":\"ChildrenLearnG\"})\n",
    "\n",
    "leveled = pd.read_excel(\"children_learn_grow.xlsx\",sheet_name=1,header=7,usecols=[\"Geography\",\"Time\",\"Tertiary complete\"])\n",
    "leveled = leveled.rename(columns={\"Geography\":\"Country\",\"Time\":\"year\",\"Tertiary complete\":\"TertiaryED\"})\n",
    "\n",
    "levelsys = pd.read_excel(\"children_learn_grow.xlsx\",sheet_name=2,header=7,usecols=[\"Geography\",\"Time\",\"Satisfied\"])\n",
    "levelsys = levelsys.rename(columns={\"Geography\":\"Country\",\"Time\":\"year\",\"Satisfied\":\"EDSYSatisf\"})"
   ]
  },
  {
   "cell_type": "code",
   "execution_count": 3,
   "metadata": {},
   "outputs": [],
   "source": [
    "dic_cambios = {\"United Kingdom of Great Britain and Northern Ireland\":\"United Kingdom\",\n",
    "               \"United States of America\":\"United States\",\n",
    "               \"Cote d'Ivoire\":\"Ivory Coast\" ,\n",
    "               \"Congo, Democratic Republic of the\":\"Congo (Kinshasa)\",\n",
    "               \"Congo\": \"Congo (Brazzaville)\",\n",
    "               \"Eswatini\":\"Swaziland\",\n",
    "               \"North Macedonia\":\"Macedonia\",\n",
    "               \"Northern Macedonia\":\"Macedonia\",\n",
    "               \"Lao People's Democratic Republic\":\"Laos\",\n",
    "               \"Moldova, Republic of\":\"Moldova\",\n",
    "               \"Russian Federation\":\"Russia\",\n",
    "               \"Somaliland region\":\"Somalia\"}\n",
    "def listar_no_incluidos(panel,datos_var):\n",
    "    for e in sorted(list(pd.unique(datos_var[\"Country\"]))):\n",
    "        if e not in list(pd.unique(panel[\"Country\"])):\n",
    "            print(e)"
   ]
  },
  {
   "cell_type": "code",
   "execution_count": 4,
   "metadata": {},
   "outputs": [
    {
     "output_type": "stream",
     "name": "stdout",
     "text": [
      "Guyana\nNagorno-Karabakh Region\n"
     ]
    }
   ],
   "source": [
    "no_food[\"Country\"].replace(to_replace = dic_cambios,inplace=True)\n",
    "listar_no_incluidos(panel,no_food)"
   ]
  },
  {
   "cell_type": "code",
   "execution_count": 5,
   "metadata": {},
   "outputs": [
    {
     "output_type": "stream",
     "name": "stdout",
     "text": [
      "Guyana\nNagorno-Karabakh Region\n"
     ]
    }
   ],
   "source": [
    "no_shelter[\"Country\"].replace(to_replace = dic_cambios,inplace=True)\n",
    "listar_no_incluidos(panel,no_shelter)"
   ]
  },
  {
   "cell_type": "code",
   "execution_count": 6,
   "metadata": {},
   "outputs": [
    {
     "output_type": "stream",
     "name": "stdout",
     "text": [
      "Cuba\nGuyana\nNagorno-Karabakh Region\n"
     ]
    }
   ],
   "source": [
    "children[\"Country\"].replace(to_replace = dic_cambios,inplace=True)\n",
    "listar_no_incluidos(panel,children)"
   ]
  },
  {
   "cell_type": "code",
   "execution_count": 7,
   "metadata": {},
   "outputs": [
    {
     "output_type": "stream",
     "name": "stdout",
     "text": [
      "Cuba\nGuyana\nNagorno-Karabakh Region\n"
     ]
    }
   ],
   "source": [
    "leveled[\"Country\"].replace(to_replace = dic_cambios,inplace=True)\n",
    "listar_no_incluidos(panel,leveled)"
   ]
  },
  {
   "cell_type": "code",
   "execution_count": 8,
   "metadata": {},
   "outputs": [
    {
     "output_type": "stream",
     "name": "stdout",
     "text": [
      "Cuba\nGuyana\nNagorno-Karabakh Region\n"
     ]
    }
   ],
   "source": [
    "levelsys[\"Country\"].replace(to_replace = dic_cambios,inplace=True)\n",
    "listar_no_incluidos(panel,levelsys)"
   ]
  },
  {
   "cell_type": "code",
   "execution_count": 9,
   "metadata": {},
   "outputs": [
    {
     "output_type": "execute_result",
     "data": {
      "text/plain": [
       "     Unnamed: 0                   Country              Region  Happiness Rank  \\\n",
       "0             0               Switzerland      Western Europe             1.0   \n",
       "1             1                   Iceland      Western Europe             2.0   \n",
       "2             2                   Denmark      Western Europe             3.0   \n",
       "3             3                    Norway      Western Europe             4.0   \n",
       "4             4                    Canada       North America             5.0   \n",
       "..          ...                       ...                 ...             ...   \n",
       "930         148  Central African Republic  Sub-Saharan Africa             NaN   \n",
       "931         149                    Rwanda  Sub-Saharan Africa             NaN   \n",
       "932         150                  Zimbabwe  Sub-Saharan Africa             NaN   \n",
       "933         151               South Sudan  Sub-Saharan Africa             NaN   \n",
       "934         152               Afghanistan          South Asia             NaN   \n",
       "\n",
       "     Happiness Score  Economy (GDP per Capita)   Family  \\\n",
       "0             7.5870                   1.39651  1.34951   \n",
       "1             7.5610                   1.30232  1.40223   \n",
       "2             7.5270                   1.32548  1.36058   \n",
       "3             7.5220                   1.45900  1.33095   \n",
       "4             7.4270                   1.32629  1.32261   \n",
       "..               ...                       ...      ...   \n",
       "930           3.4759                       NaN      NaN   \n",
       "931           3.3123                       NaN      NaN   \n",
       "932           3.2992                       NaN      NaN   \n",
       "933           2.8166                       NaN      NaN   \n",
       "934           2.5669                       NaN      NaN   \n",
       "\n",
       "     Health (Life Expectancy)   Freedom  Trust (Government Corruption)  ...  \\\n",
       "0                    0.941430  0.665570                       0.419780  ...   \n",
       "1                    0.947840  0.628770                       0.141450  ...   \n",
       "2                    0.874640  0.649380                       0.483570  ...   \n",
       "3                    0.885210  0.669730                       0.365030  ...   \n",
       "4                    0.905630  0.632970                       0.329570  ...   \n",
       "..                        ...       ...                            ...  ...   \n",
       "930                  0.452000  0.640881                       0.891807  ...   \n",
       "931                  0.610988  0.900589                       0.183541  ...   \n",
       "932                  0.556173  0.711458                       0.810237  ...   \n",
       "933                  0.510000  0.451314                       0.763417  ...   \n",
       "934                  0.525900  0.396573                       0.933687  ...   \n",
       "\n",
       "     Upper Confidence Interval  Lower Confidence Interval  year  \\\n",
       "0                     7.653856                   7.520144  2015   \n",
       "1                     7.656726                   7.465274  2015   \n",
       "2                     7.592229                   7.461771  2015   \n",
       "3                     7.598048                   7.445952  2015   \n",
       "4                     7.496639                   7.357361  2015   \n",
       "..                         ...                        ...   ...   \n",
       "930                   3.701658                   3.250141  2020   \n",
       "931                   3.415053                   3.209547  2020   \n",
       "932                   3.414202                   3.184198  2020   \n",
       "933                   3.027516                   2.605684  2020   \n",
       "934                   2.628270                   2.505530  2020   \n",
       "\n",
       "     Social support  Logged GDP per capita  NoMon4Food%  NoMon4Shelter%  \\\n",
       "0               NaN                    NaN     0.041845            0.13   \n",
       "1               NaN                    NaN     0.112452            0.08   \n",
       "2               NaN                    NaN     0.060682            0.07   \n",
       "3               NaN                    NaN     0.068640            0.06   \n",
       "4               NaN                    NaN     0.090418            0.08   \n",
       "..              ...                    ...          ...             ...   \n",
       "930        0.319460               6.625160          NaN             NaN   \n",
       "931        0.540835               7.600104          NaN             NaN   \n",
       "932        0.763093               7.865712     0.803759            0.50   \n",
       "933        0.553707               7.425360          NaN             NaN   \n",
       "934        0.470367               7.462861          NaN             NaN   \n",
       "\n",
       "     ChildrenLearnG  TertiaryED  EDSYSatisf  \n",
       "0              0.97        0.34        0.83  \n",
       "1              0.91        0.32        0.82  \n",
       "2              0.92        0.12        0.75  \n",
       "3              0.94        0.30        0.84  \n",
       "4              0.90        0.26        0.70  \n",
       "..              ...         ...         ...  \n",
       "930             NaN         NaN         NaN  \n",
       "931             NaN         NaN         NaN  \n",
       "932            0.61        0.05        0.37  \n",
       "933             NaN         NaN         NaN  \n",
       "934             NaN         NaN         NaN  \n",
       "\n",
       "[935 rows x 22 columns]"
      ],
      "text/html": "<div>\n<style scoped>\n    .dataframe tbody tr th:only-of-type {\n        vertical-align: middle;\n    }\n\n    .dataframe tbody tr th {\n        vertical-align: top;\n    }\n\n    .dataframe thead th {\n        text-align: right;\n    }\n</style>\n<table border=\"1\" class=\"dataframe\">\n  <thead>\n    <tr style=\"text-align: right;\">\n      <th></th>\n      <th>Unnamed: 0</th>\n      <th>Country</th>\n      <th>Region</th>\n      <th>Happiness Rank</th>\n      <th>Happiness Score</th>\n      <th>Economy (GDP per Capita)</th>\n      <th>Family</th>\n      <th>Health (Life Expectancy)</th>\n      <th>Freedom</th>\n      <th>Trust (Government Corruption)</th>\n      <th>...</th>\n      <th>Upper Confidence Interval</th>\n      <th>Lower Confidence Interval</th>\n      <th>year</th>\n      <th>Social support</th>\n      <th>Logged GDP per capita</th>\n      <th>NoMon4Food%</th>\n      <th>NoMon4Shelter%</th>\n      <th>ChildrenLearnG</th>\n      <th>TertiaryED</th>\n      <th>EDSYSatisf</th>\n    </tr>\n  </thead>\n  <tbody>\n    <tr>\n      <th>0</th>\n      <td>0</td>\n      <td>Switzerland</td>\n      <td>Western Europe</td>\n      <td>1.0</td>\n      <td>7.5870</td>\n      <td>1.39651</td>\n      <td>1.34951</td>\n      <td>0.941430</td>\n      <td>0.665570</td>\n      <td>0.419780</td>\n      <td>...</td>\n      <td>7.653856</td>\n      <td>7.520144</td>\n      <td>2015</td>\n      <td>NaN</td>\n      <td>NaN</td>\n      <td>0.041845</td>\n      <td>0.13</td>\n      <td>0.97</td>\n      <td>0.34</td>\n      <td>0.83</td>\n    </tr>\n    <tr>\n      <th>1</th>\n      <td>1</td>\n      <td>Iceland</td>\n      <td>Western Europe</td>\n      <td>2.0</td>\n      <td>7.5610</td>\n      <td>1.30232</td>\n      <td>1.40223</td>\n      <td>0.947840</td>\n      <td>0.628770</td>\n      <td>0.141450</td>\n      <td>...</td>\n      <td>7.656726</td>\n      <td>7.465274</td>\n      <td>2015</td>\n      <td>NaN</td>\n      <td>NaN</td>\n      <td>0.112452</td>\n      <td>0.08</td>\n      <td>0.91</td>\n      <td>0.32</td>\n      <td>0.82</td>\n    </tr>\n    <tr>\n      <th>2</th>\n      <td>2</td>\n      <td>Denmark</td>\n      <td>Western Europe</td>\n      <td>3.0</td>\n      <td>7.5270</td>\n      <td>1.32548</td>\n      <td>1.36058</td>\n      <td>0.874640</td>\n      <td>0.649380</td>\n      <td>0.483570</td>\n      <td>...</td>\n      <td>7.592229</td>\n      <td>7.461771</td>\n      <td>2015</td>\n      <td>NaN</td>\n      <td>NaN</td>\n      <td>0.060682</td>\n      <td>0.07</td>\n      <td>0.92</td>\n      <td>0.12</td>\n      <td>0.75</td>\n    </tr>\n    <tr>\n      <th>3</th>\n      <td>3</td>\n      <td>Norway</td>\n      <td>Western Europe</td>\n      <td>4.0</td>\n      <td>7.5220</td>\n      <td>1.45900</td>\n      <td>1.33095</td>\n      <td>0.885210</td>\n      <td>0.669730</td>\n      <td>0.365030</td>\n      <td>...</td>\n      <td>7.598048</td>\n      <td>7.445952</td>\n      <td>2015</td>\n      <td>NaN</td>\n      <td>NaN</td>\n      <td>0.068640</td>\n      <td>0.06</td>\n      <td>0.94</td>\n      <td>0.30</td>\n      <td>0.84</td>\n    </tr>\n    <tr>\n      <th>4</th>\n      <td>4</td>\n      <td>Canada</td>\n      <td>North America</td>\n      <td>5.0</td>\n      <td>7.4270</td>\n      <td>1.32629</td>\n      <td>1.32261</td>\n      <td>0.905630</td>\n      <td>0.632970</td>\n      <td>0.329570</td>\n      <td>...</td>\n      <td>7.496639</td>\n      <td>7.357361</td>\n      <td>2015</td>\n      <td>NaN</td>\n      <td>NaN</td>\n      <td>0.090418</td>\n      <td>0.08</td>\n      <td>0.90</td>\n      <td>0.26</td>\n      <td>0.70</td>\n    </tr>\n    <tr>\n      <th>...</th>\n      <td>...</td>\n      <td>...</td>\n      <td>...</td>\n      <td>...</td>\n      <td>...</td>\n      <td>...</td>\n      <td>...</td>\n      <td>...</td>\n      <td>...</td>\n      <td>...</td>\n      <td>...</td>\n      <td>...</td>\n      <td>...</td>\n      <td>...</td>\n      <td>...</td>\n      <td>...</td>\n      <td>...</td>\n      <td>...</td>\n      <td>...</td>\n      <td>...</td>\n      <td>...</td>\n    </tr>\n    <tr>\n      <th>930</th>\n      <td>148</td>\n      <td>Central African Republic</td>\n      <td>Sub-Saharan Africa</td>\n      <td>NaN</td>\n      <td>3.4759</td>\n      <td>NaN</td>\n      <td>NaN</td>\n      <td>0.452000</td>\n      <td>0.640881</td>\n      <td>0.891807</td>\n      <td>...</td>\n      <td>3.701658</td>\n      <td>3.250141</td>\n      <td>2020</td>\n      <td>0.319460</td>\n      <td>6.625160</td>\n      <td>NaN</td>\n      <td>NaN</td>\n      <td>NaN</td>\n      <td>NaN</td>\n      <td>NaN</td>\n    </tr>\n    <tr>\n      <th>931</th>\n      <td>149</td>\n      <td>Rwanda</td>\n      <td>Sub-Saharan Africa</td>\n      <td>NaN</td>\n      <td>3.3123</td>\n      <td>NaN</td>\n      <td>NaN</td>\n      <td>0.610988</td>\n      <td>0.900589</td>\n      <td>0.183541</td>\n      <td>...</td>\n      <td>3.415053</td>\n      <td>3.209547</td>\n      <td>2020</td>\n      <td>0.540835</td>\n      <td>7.600104</td>\n      <td>NaN</td>\n      <td>NaN</td>\n      <td>NaN</td>\n      <td>NaN</td>\n      <td>NaN</td>\n    </tr>\n    <tr>\n      <th>932</th>\n      <td>150</td>\n      <td>Zimbabwe</td>\n      <td>Sub-Saharan Africa</td>\n      <td>NaN</td>\n      <td>3.2992</td>\n      <td>NaN</td>\n      <td>NaN</td>\n      <td>0.556173</td>\n      <td>0.711458</td>\n      <td>0.810237</td>\n      <td>...</td>\n      <td>3.414202</td>\n      <td>3.184198</td>\n      <td>2020</td>\n      <td>0.763093</td>\n      <td>7.865712</td>\n      <td>0.803759</td>\n      <td>0.50</td>\n      <td>0.61</td>\n      <td>0.05</td>\n      <td>0.37</td>\n    </tr>\n    <tr>\n      <th>933</th>\n      <td>151</td>\n      <td>South Sudan</td>\n      <td>Sub-Saharan Africa</td>\n      <td>NaN</td>\n      <td>2.8166</td>\n      <td>NaN</td>\n      <td>NaN</td>\n      <td>0.510000</td>\n      <td>0.451314</td>\n      <td>0.763417</td>\n      <td>...</td>\n      <td>3.027516</td>\n      <td>2.605684</td>\n      <td>2020</td>\n      <td>0.553707</td>\n      <td>7.425360</td>\n      <td>NaN</td>\n      <td>NaN</td>\n      <td>NaN</td>\n      <td>NaN</td>\n      <td>NaN</td>\n    </tr>\n    <tr>\n      <th>934</th>\n      <td>152</td>\n      <td>Afghanistan</td>\n      <td>South Asia</td>\n      <td>NaN</td>\n      <td>2.5669</td>\n      <td>NaN</td>\n      <td>NaN</td>\n      <td>0.525900</td>\n      <td>0.396573</td>\n      <td>0.933687</td>\n      <td>...</td>\n      <td>2.628270</td>\n      <td>2.505530</td>\n      <td>2020</td>\n      <td>0.470367</td>\n      <td>7.462861</td>\n      <td>NaN</td>\n      <td>NaN</td>\n      <td>NaN</td>\n      <td>NaN</td>\n      <td>NaN</td>\n    </tr>\n  </tbody>\n</table>\n<p>935 rows × 22 columns</p>\n</div>"
     },
     "metadata": {},
     "execution_count": 9
    }
   ],
   "source": [
    "panel = panel.merge(no_food,how=\"left\",on=[\"Country\",\"year\"])\n",
    "panel = panel.merge(no_shelter,how=\"left\",on=[\"Country\",\"year\"])\n",
    "panel = panel.merge(children,how=\"left\",on=[\"Country\",\"year\"])\n",
    "panel = panel.merge(leveled,how=\"left\",on=[\"Country\",\"year\"])\n",
    "panel = panel.merge(levelsys,how=\"left\",on=[\"Country\",\"year\"])\n",
    "panel"
   ]
  },
  {
   "cell_type": "code",
   "execution_count": 10,
   "metadata": {},
   "outputs": [],
   "source": [
    "panel.to_excel(\"panel.xlsx\")"
   ]
  },
  {
   "source": [
    "## Unión de resto de variables"
   ],
   "cell_type": "markdown",
   "metadata": {}
  },
  {
   "cell_type": "code",
   "execution_count": 11,
   "metadata": {},
   "outputs": [],
   "source": [
    "import os\n",
    "os.chdir(\"C:/Users/Gonzalo/Documents/CURSO3/PRIII\")"
   ]
  },
  {
   "cell_type": "code",
   "execution_count": 20,
   "metadata": {},
   "outputs": [],
   "source": [
    "resto = pd.read_excel(\"panel_todos.xlsx\")"
   ]
  },
  {
   "cell_type": "code",
   "execution_count": 21,
   "metadata": {},
   "outputs": [
    {
     "output_type": "execute_result",
     "data": {
      "text/plain": [
       "Index(['Unnamed: 0', 'Country', 'Region', 'Happiness Rank', 'Happiness Score',\n",
       "       'Lower Confidence Interval', 'Upper Confidence Interval',\n",
       "       'Economy (GDP per Capita)', 'Family', 'Health (Life Expectancy)',\n",
       "       'Freedom', 'Trust (Government Corruption)', 'Generosity',\n",
       "       'Dystopia Residual', 'Year', 'Whisker.low', 'Social support',\n",
       "       'Standard error of ladder score', 'Logged GDP per capita',\n",
       "       'Ladder score in Dystopia', 'Dystopia + residual', 'NoMon4Food%',\n",
       "       'NoMon4Shelter%', 'ChildrenLearnG', 'TertiaryED', 'EDSYSatisf',\n",
       "       'Quality healthcare - satisfied', 'Quality healthcare - Dissatisfied',\n",
       "       'Quality healthcare - DK', 'Employed full time for an employer',\n",
       "       'Employed full time for self',\n",
       "       'Employed part time do not want full time', 'Unemployed',\n",
       "       'Employed part time want full time', 'Out of workforce', 'Male',\n",
       "       'Payroll index', 'Preserve enviroment - satisfied',\n",
       "       'Preserve enviroment - Dissatisfied', 'Preserve enviroment - DK',\n",
       "       'Quality air - satisfied', 'Quality air - Dissatisfied',\n",
       "       'Quality air - DK', 'Quality water - satisfied',\n",
       "       'Quality water - Dissatisfied', 'Quality water - DK',\n",
       "       'Treated respect - satisfied', 'Treated respect - Dissatisfied',\n",
       "       'Treated respect - DK', 'Unemploiment index',\n",
       "       'Preserve the environment - satsified_x',\n",
       "       'Treated with respect - Yes_x',\n",
       "       'Care about safety while working - Yes_x',\n",
       "       'Care about safety while working - Not currently working for employer (not asked)_x',\n",
       "       'Trust ONG in your Country - Yes_x',\n",
       "       'Work risk safety: Falling - Yes_x',\n",
       "       'Work risk safety: Falling - Not currently working (not asked)_x',\n",
       "       'Work hard, get ahead - Yes_x',\n",
       "       'Preserve the environment - satsified_y',\n",
       "       'Treated with respect - Yes_y',\n",
       "       'Care about safety while working - Yes_y',\n",
       "       'Care about safety while working - Not currently working for employer (not asked)_y',\n",
       "       'Trust ONG in your Country - Yes_y',\n",
       "       'Work risk safety: Falling - Yes_y',\n",
       "       'Work risk safety: Falling - Not currently working (not asked)_y',\n",
       "       'Work hard, get ahead - Yes_y',\n",
       "       'Preserve the environment - satsified_x.1',\n",
       "       'Treated with respect - Yes_x.1',\n",
       "       'Care about safety while working - Yes_x.1',\n",
       "       'Care about safety while working - Not currently working for employer (not asked)_x.1',\n",
       "       'Trust ONG in your Country - Yes_x.1',\n",
       "       'Work risk safety: Falling - Yes_x.1',\n",
       "       'Work risk safety: Falling - Not currently working (not asked)_x.1',\n",
       "       'Work hard, get ahead - Yes_x.1',\n",
       "       'Preserve the environment - satsified_y.1',\n",
       "       'Treated with respect - Yes_y.1',\n",
       "       'Care about safety while working - Yes_y.1',\n",
       "       'Care about safety while working - Not currently working for employer (not asked)_y.1',\n",
       "       'Trust ONG in your Country - Yes_y.1',\n",
       "       'Work risk safety: Falling - Yes_y.1',\n",
       "       'Work risk safety: Falling - Not currently working (not asked)_y.1',\n",
       "       'Work hard, get ahead - Yes_y.1', 'Economic confidence index - Value',\n",
       "       'City Economy - Getting better', 'City Economy - Remains the same',\n",
       "       'City Economy - Getting worse', 'City Economy - Don't know',\n",
       "       'City Economy - No Answer', 'Urban', 'Rural',\n",
       "       'Urbal/Rural - Don't know/No Answer', 'Current Economy - Excellent',\n",
       "       'Current Economy - Good', 'Current Economy - Only Fair',\n",
       "       'Current Economy - Poor', 'Current Economy - Don't Know/No Answer',\n",
       "       'National Economy - Getting better',\n",
       "       'National Economy - Remains the same',\n",
       "       'National Economy - Getting worse',\n",
       "       'National Economy - Don't Know/No Answer'],\n",
       "      dtype='object')"
      ]
     },
     "metadata": {},
     "execution_count": 21
    }
   ],
   "source": [
    "resto.columns"
   ]
  },
  {
   "cell_type": "code",
   "execution_count": 22,
   "metadata": {},
   "outputs": [],
   "source": [
    "resto = resto.drop(columns=['Unnamed: 0', 'Region', 'Happiness Rank', 'Happiness Score',\n",
    "       'Lower Confidence Interval', 'Upper Confidence Interval',\n",
    "       'Economy (GDP per Capita)', 'Family', 'Health (Life Expectancy)',\n",
    "       'Freedom', 'Trust (Government Corruption)', 'Generosity',\n",
    "       'Dystopia Residual', 'Whisker.low', 'Social support',\n",
    "       'Standard error of ladder score', 'Logged GDP per capita',\n",
    "       'Ladder score in Dystopia', 'Dystopia + residual','NoMon4Food%',\n",
    "       'NoMon4Shelter%', 'ChildrenLearnG', 'TertiaryED', 'EDSYSatisf'])"
   ]
  },
  {
   "cell_type": "code",
   "execution_count": 23,
   "metadata": {},
   "outputs": [],
   "source": [
    "resto = resto.rename(columns={\"Year\":\"year\"})"
   ]
  },
  {
   "cell_type": "code",
   "execution_count": 24,
   "metadata": {},
   "outputs": [],
   "source": [
    "panel = panel.merge(resto,how=\"left\",on=[\"Country\",\"year\"])"
   ]
  },
  {
   "cell_type": "code",
   "execution_count": 26,
   "metadata": {},
   "outputs": [],
   "source": [
    "panel.to_excel(\"panel_todo.xlsx\")"
   ]
  }
 ]
}
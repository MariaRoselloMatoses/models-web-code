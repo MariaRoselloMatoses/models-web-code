{
 "metadata": {
  "language_info": {
   "codemirror_mode": {
    "name": "ipython",
    "version": 3
   },
   "file_extension": ".py",
   "mimetype": "text/x-python",
   "name": "python",
   "nbconvert_exporter": "python",
   "pygments_lexer": "ipython3",
   "version": "3.8.3"
  },
  "orig_nbformat": 2,
  "kernelspec": {
   "name": "python383jvsc74a57bd0b6e840c0d6ecd3ac8eb2ec219e2295de2c73e3d6186b0bfbaddb1c0437151cf6",
   "display_name": "Python 3.8.3 64-bit (conda)"
  }
 },
 "nbformat": 4,
 "nbformat_minor": 2,
 "cells": [
  {
   "cell_type": "code",
   "execution_count": 1,
   "metadata": {},
   "outputs": [],
   "source": [
    "import os \n",
    "import pandas as pd\n",
    "os.chdir(\"C:/Users/Gonzalo/Documents/CURSO3/PRIII/datos_happy_raw/datos_años\")\n",
    "datos15 = pd.read_csv(\"2015.csv\")\n",
    "datos16 = pd.read_csv(\"2016.csv\")\n",
    "datos17 = pd.read_csv(\"2017.csv\")\n",
    "datos18 = pd.read_csv(\"2018.csv\")\n",
    "datos19 = pd.read_csv(\"2019.csv\")\n",
    "datos20 = pd.read_csv(\"2020.csv\")"
   ]
  },
  {
   "cell_type": "code",
   "execution_count": 2,
   "metadata": {},
   "outputs": [],
   "source": [
    "datos15[\"Upper Confidence Interval\"] = datos15[\"Happiness Score\"] + 1.96*datos15[\"Standard Error\"]\n",
    "datos15[\"Lower Confidence Interval\"] = datos15[\"Happiness Score\"] - 1.96*datos15[\"Standard Error\"]\n",
    "datos15 = datos15.drop(columns=[\"Standard Error\"])\n",
    "datos15[\"year\"] = [2015 for i in range(len(datos15))]"
   ]
  },
  {
   "source": [
    "## Simplificación de nombres de columnas"
   ],
   "cell_type": "markdown",
   "metadata": {}
  },
  {
   "cell_type": "code",
   "execution_count": 3,
   "metadata": {},
   "outputs": [],
   "source": [
    "datos17 = datos17.rename(columns={\"Happiness.Rank\":\"Happiness Rank\",\"Happiness.Score\":\"Happiness Score\",\n",
    "                                  \"Whisker.high\":\"Upper Confidence Interval\",\n",
    "                                  \"Whisker.low\":\"Lower Confidence Interval\",\n",
    "                                  \"Economy..GDP.per.Capita.\": \"Economy (GDP per Capita)\",\n",
    "                                  \"Health..Life.Expectancy.\":\"Health (Life Expectancy)\",\n",
    "                                  \"Trust..Government.Corruption.\":\"Trust (Government Corruption)\",\n",
    "                                  \"Dystopia.Residual\":\"Dystopia Residual\"})\n",
    "datos16[\"year\"] = [2016 for i in range(len(datos16))]\n",
    "datos17[\"year\"]=[2017 for i in range(len(datos17))]"
   ]
  },
  {
   "cell_type": "code",
   "execution_count": 4,
   "metadata": {},
   "outputs": [],
   "source": [
    "#variable adicional: Social support\n",
    "datos18 = datos18.rename(columns={\"Overall rank\":\"Happiness Rank\",\"Country or region\":\"Country\",              \n",
    "                                  \"Score\":\"Happiness Score\",\n",
    "                                  \"GDP per capita\": \"Economy (GDP per Capita)\",\n",
    "                                  \"Healthy life expectancy\":\"Health (Life Expectancy)\",\n",
    "                                  \"Freedom to make life choices\":\"Freedom\",\n",
    "                                  \"Perceptions of corruption\":\"Trust (Government Corruption)\",\n",
    "                                  \"Social support\": \"Family\"})\n",
    "datos18[\"year\"] = [2018 for i in range(len(datos18))]"
   ]
  },
  {
   "cell_type": "code",
   "execution_count": 5,
   "metadata": {},
   "outputs": [],
   "source": [
    "#variable adicional: Social support\n",
    "datos19 = datos19.rename(columns={\"Overall rank\":\"Happiness Rank\",\"Country or region\":\"Country\",              \n",
    "                                  \"Score\":\"Happiness Score\",\n",
    "                                  \"GDP per capita\": \"Economy (GDP per Capita)\",\n",
    "                                  \"Healthy life expectancy\":\"Health (Life Expectancy)\",\n",
    "                                  \"Freedom to make life choices\":\"Freedom\",\n",
    "                                  \"Perceptions of corruption\":\"Trust (Government Corruption)\",\n",
    "                                  \"Social support\":\"Family\"})\n",
    "datos19[\"year\"] = [2019 for i in range(len(datos19))]"
   ]
  },
  {
   "cell_type": "code",
   "execution_count": 6,
   "metadata": {},
   "outputs": [],
   "source": [
    "#variable adicional: Social support\n",
    "datos20 = datos20.rename(columns={\"Overall rank\":\"Happiness Rank\",\"Country name\":\"Country\",\n",
    "                                  \"Regional indicator\":\"Region\",\n",
    "                                  \"upperwhisker\":\"Upper Confidence Interval\",\n",
    "                                  \"lowerwhisker\":\"Lower Confidence Interval\",             \n",
    "                                  \"Ladder score\":\"Happiness Score\",\n",
    "                                  \"Healthy life expectancy\":\"Health (Life Expectancy)\",\n",
    "                                  \"Freedom to make life choices\":\"Freedom\",\n",
    "                                  \"Perceptions of corruption\":\"Trust (Government Corruption)\",\n",
    "                                  \"Dystopia + residual\":\"Dystopia Residual\",\n",
    "                                  \"Social support\":\"Family\"})\n",
    "#lista_exp = [\"Explained by: Log GDP per capita\",\"Explained by: Social support\",\"Explained by: Healthy life expectancy\",\"Explained by: Freedom to make life choices\",\"Explained by: Generosity\",\"Explained by: Perceptions of corruption\"]\n",
    "#datos20 = datos20.drop(labels = lista_exp,axis=1)\n",
    "datos20[\"year\"] = [2020 for i in range(len(datos20))]\n",
    "datos20[\"Health (Life Expectancy)\"] = datos20[\"Health (Life Expectancy)\"]/100\n",
    "datos20 = datos20.drop(columns=[\"Standard error of ladder score\",\"Ladder score in Dystopia\",\"Explained by: Log GDP per capita\",\"Explained by: Social support\",\"Explained by: Healthy life expectancy\",\"Explained by: Freedom to make life choices\",\"Explained by: Generosity\",\"Explained by: Perceptions of corruption\"])"
   ]
  },
  {
   "cell_type": "code",
   "execution_count": 7,
   "metadata": {},
   "outputs": [],
   "source": [
    "aa = pd.concat([datos15,datos16,datos17,datos18,datos19,datos20])"
   ]
  },
  {
   "source": [
    "## Normalización de países"
   ],
   "cell_type": "markdown",
   "metadata": {}
  },
  {
   "cell_type": "code",
   "execution_count": 8,
   "metadata": {},
   "outputs": [
    {
     "output_type": "stream",
     "name": "stdout",
     "text": [
      "['Afghanistan', 'Albania', 'Algeria', 'Angola', 'Argentina', 'Armenia', 'Australia', 'Austria', 'Azerbaijan', 'Bahrain', 'Bangladesh', 'Belarus', 'Belgium', 'Belize', 'Benin', 'Bhutan', 'Bolivia', 'Bosnia and Herzegovina', 'Botswana', 'Brazil', 'Bulgaria', 'Burkina Faso', 'Burundi', 'Cambodia', 'Cameroon', 'Canada', 'Central African Republic', 'Chad', 'Chile', 'China', 'Colombia', 'Comoros', 'Congo (Brazzaville)', 'Congo (Kinshasa)', 'Costa Rica', 'Croatia', 'Cyprus', 'Czech Republic', 'Denmark', 'Djibouti', 'Dominican Republic', 'Ecuador', 'Egypt', 'El Salvador', 'Estonia', 'Ethiopia', 'Finland', 'France', 'Gabon', 'Gambia', 'Georgia', 'Germany', 'Ghana', 'Greece', 'Guatemala', 'Guinea', 'Haiti', 'Honduras', 'Hong Kong', 'Hungary', 'Iceland', 'India', 'Indonesia', 'Iran', 'Iraq', 'Ireland', 'Israel', 'Italy', 'Ivory Coast', 'Jamaica', 'Japan', 'Jordan', 'Kazakhstan', 'Kenya', 'Kosovo', 'Kuwait', 'Kyrgyzstan', 'Laos', 'Latvia', 'Lebanon', 'Lesotho', 'Liberia', 'Libya', 'Lithuania', 'Luxembourg', 'Macedonia', 'Madagascar', 'Malawi', 'Malaysia', 'Maldives', 'Mali', 'Malta', 'Mauritania', 'Mauritius', 'Mexico', 'Moldova', 'Mongolia', 'Montenegro', 'Morocco', 'Mozambique', 'Myanmar', 'Namibia', 'Nepal', 'Netherlands', 'New Zealand', 'Nicaragua', 'Niger', 'Nigeria', 'Northern Cyprus', 'Norway', 'Oman', 'Pakistan', 'Palestinian Territories', 'Panama', 'Paraguay', 'Peru', 'Philippines', 'Poland', 'Portugal', 'Puerto Rico', 'Qatar', 'Romania', 'Russia', 'Rwanda', 'Saudi Arabia', 'Senegal', 'Serbia', 'Sierra Leone', 'Singapore', 'Slovakia', 'Slovenia', 'Somalia', 'South Africa', 'South Korea', 'South Sudan', 'Spain', 'Sri Lanka', 'Sudan', 'Suriname', 'Swaziland', 'Sweden', 'Switzerland', 'Syria', 'Taiwan', 'Tajikistan', 'Tanzania', 'Thailand', 'Togo', 'Trinidad and Tobago', 'Tunisia', 'Turkey', 'Turkmenistan', 'Uganda', 'Ukraine', 'United Arab Emirates', 'United Kingdom', 'United States', 'Uruguay', 'Uzbekistan', 'Venezuela', 'Vietnam', 'Yemen', 'Zambia', 'Zimbabwe']\n"
     ]
    }
   ],
   "source": [
    "dic_cambios_base = {'Hong Kong S.A.R. of China': \"Hong Kong\",\n",
    "                    \"Hong Kong S.A.R., China\":\"Hong Kong\",\n",
    "                    \"North Cyprus\":\"Northern Cyprus\",\n",
    "                    \"North Macedonia\":\"Macedonia\",\n",
    "                    'Taiwan Province of China':\"Taiwan\",\n",
    "                    \"Somaliland region\":\"Somalia\",\n",
    "                    \"Somaliland Region\":\"Somalia\",\n",
    "                    \"Trinidad & Tobago\":\"Trinidad and Tobago\"}\n",
    "aa.replace(dic_cambios_base,inplace=True)\n",
    "print(sorted(list(pd.unique(aa[\"Country\"]))))"
   ]
  },
  {
   "cell_type": "code",
   "execution_count": 9,
   "metadata": {},
   "outputs": [],
   "source": [
    "aa.to_excel(\"gallup_conjunto.xlsx\")"
   ]
  },
  {
   "source": [
    "## Ejemplos con NO MONEY 4 FOOD y NO MONEY 4 SHELTER"
   ],
   "cell_type": "markdown",
   "metadata": {}
  },
  {
   "cell_type": "code",
   "execution_count": 9,
   "metadata": {},
   "outputs": [],
   "source": [
    "os.chdir(\"C:/Users/Gonzalo/Documents/CURSO3/PRIII/datos_happy_raw/datos_variables\")\n",
    "no_food = pd.read_excel(\"no_food.xlsx\",header=7,usecols=[\"Geography\",\"Time\",\"Yes\"])\n",
    "no_food = no_food.rename(columns={\"Geography\":\"Country\",\"Time\":\"year\",\"Yes\":\"NoMon4Food%\"})"
   ]
  },
  {
   "cell_type": "code",
   "execution_count": 10,
   "metadata": {},
   "outputs": [
    {
     "output_type": "stream",
     "name": "stdout",
     "text": [
      "Djibouti\nGuyana\nNagorno-Karabakh Region\nOman\n"
     ]
    }
   ],
   "source": [
    "dic_cambios = {\"United Kingdom of Great Britain and Northern Ireland\":\"United Kingdom\",\n",
    "               \"United States of America\":\"United States\",\n",
    "               \"Cote d'Ivoire\":\"Ivory Coast\" ,\n",
    "               \"Congo, Democratic Republic of the\":\"Congo (Kinshasa)\",\n",
    "               \"Congo\": \"Congo (Brazzaville)\",\n",
    "               \"Eswatini\":\"Swaziland\",\n",
    "               \"North Macedonia\":\"Macedonia\",\n",
    "               \"Northern Macedonia\":\"Macedonia\",\n",
    "               \"Lao People's Democratic Republic\":\"Laos\",\n",
    "               \"Moldova, Republic of\":\"Moldova\",\n",
    "               \"Russian Federation\":\"Russia\",\n",
    "               \"Somaliland region\":\"Somalia\"}\n",
    "no_food[\"Country\"].replace(to_replace = dic_cambios,inplace=True)\n",
    "\n",
    "def listar_no_incluidos(panel,datos_var):\n",
    "    for e in sorted(list(pd.unique(datos_var[\"Country\"]))):\n",
    "        if e not in list(pd.unique(panel[\"Country\"])):\n",
    "            print(e)\n",
    "listar_no_incluidos(aa,no_food)\n",
    "aa = aa.merge(no_food,how=\"left\",on=[\"Country\",\"year\"])"
   ]
  },
  {
   "cell_type": "code",
   "execution_count": 11,
   "metadata": {},
   "outputs": [
    {
     "output_type": "stream",
     "name": "stdout",
     "text": [
      "Djibouti\nGuyana\nNagorno-Karabakh Region\nOman\n"
     ]
    }
   ],
   "source": [
    "no_shelter = pd.read_excel(\"no_shelter.xlsx\",header=7,usecols=[\"Geography\",\"Time\",\"Yes\"])\n",
    "no_shelter = no_shelter.rename(columns={\"Geography\":\"Country\",\"Time\":\"year\",\"Yes\":\"NoMon4Shelter%\"})\n",
    "no_shelter[\"Country\"].replace(to_replace = dic_cambios,inplace=True)\n",
    "\n",
    "listar_no_incluidos(aa,no_shelter)\n",
    "aa = aa.merge(no_shelter,how=\"left\",on=[\"Country\",\"year\"])"
   ]
  },
  {
   "source": [
    "### FALTANTES PARA CADA AÑO POR VARIABLE (también se podría observar casos con poca info)"
   ],
   "cell_type": "markdown",
   "metadata": {}
  },
  {
   "cell_type": "code",
   "execution_count": 12,
   "metadata": {},
   "outputs": [
    {
     "output_type": "stream",
     "name": "stdout",
     "text": [
      "2016\nNoMon4Food%       10.191083\nNoMon4Shelter%    10.191083\ndtype: float64 %\n\n2017\nNoMon4Food%       7.096774\nNoMon4Shelter%    7.096774\ndtype: float64 %\n\n2018\nNoMon4Food%       10.25641\nNoMon4Shelter%    10.25641\ndtype: float64 %\n\n2019\nNoMon4Food%       7.692308\nNoMon4Shelter%    7.051282\ndtype: float64 %\n\n2020\nNoMon4Food%       26.143791\nNoMon4Shelter%    25.490196\ndtype: float64 %\n\n"
     ]
    }
   ],
   "source": [
    "for anyo in [2016,2017,2018,2019,2020]:\n",
    "    sub = aa[aa[\"year\"]==anyo][[\"NoMon4Food%\",\"NoMon4Shelter%\"]]\n",
    "    print(anyo)\n",
    "    print(sub.isnull().sum()/len(sub)*100,\"%\\n\")"
   ]
  },
  {
   "source": [
    "## Añadir la columna de family"
   ],
   "cell_type": "markdown",
   "metadata": {}
  },
  {
   "cell_type": "code",
   "execution_count": 9,
   "metadata": {},
   "outputs": [],
   "source": [
    "os.chdir(\"C:/Users/Gonzalo/Documents/CURSO3/PRIII\")\n",
    "integrada = pd.read_excel(\"integrada_sinNa.xlsx\")"
   ]
  },
  {
   "cell_type": "code",
   "execution_count": 10,
   "metadata": {},
   "outputs": [],
   "source": [
    "aa2 = aa[[\"Country\",\"year\",\"Family\"]]"
   ]
  },
  {
   "cell_type": "code",
   "execution_count": 11,
   "metadata": {},
   "outputs": [],
   "source": [
    "i2 = integrada.merge(aa2,how=\"left\",on=[\"Country\",\"year\"])"
   ]
  },
  {
   "cell_type": "code",
   "execution_count": 12,
   "metadata": {},
   "outputs": [
    {
     "output_type": "execute_result",
     "data": {
      "text/plain": [
       "0"
      ]
     },
     "metadata": {},
     "execution_count": 12
    }
   ],
   "source": [
    "sum(i2[\"Family\"].isnull())"
   ]
  },
  {
   "cell_type": "code",
   "execution_count": 13,
   "metadata": {},
   "outputs": [],
   "source": [
    "i2.to_excel(\"integrada2.xlsx\")"
   ]
  }
 ]
}